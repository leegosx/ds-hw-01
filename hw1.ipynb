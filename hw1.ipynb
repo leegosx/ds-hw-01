{
 "cells": [
  {
   "cell_type": "code",
   "execution_count": 20,
   "id": "10819044-7db1-4538-be44-a93f6049d68f",
   "metadata": {},
   "outputs": [],
   "source": [
    "#Introduction to Data Science"
   ]
  },
  {
   "cell_type": "code",
   "execution_count": 5,
   "id": "e263e42d-e1a7-4790-a7bc-ee73a1630120",
   "metadata": {},
   "outputs": [],
   "source": [
    "import numpy as np"
   ]
  },
  {
   "cell_type": "code",
   "execution_count": 19,
   "id": "5a8b7df9-0331-4449-93b4-6eb6cbbf8c09",
   "metadata": {},
   "outputs": [],
   "source": [
    "## 1. Create a one-dimensional array (vector) with the first 10 natural numbers and display its values."
   ]
  },
  {
   "cell_type": "code",
   "execution_count": 22,
   "id": "1de7e9a5-a86a-411f-bcc1-f7b38f6cdb85",
   "metadata": {},
   "outputs": [
    {
     "name": "stdout",
     "output_type": "stream",
     "text": [
      "[ 1  2  3  4  5  6  7  8  9 10]\n"
     ]
    }
   ],
   "source": [
    "vector = np.array(range(1, 11), dtype=int)\n",
    "print(vector)"
   ]
  },
  {
   "cell_type": "code",
   "execution_count": null,
   "id": "6b4946cf-db5a-41a7-9c25-1a01b2436cfd",
   "metadata": {},
   "outputs": [],
   "source": [
    "## 2. Create a two-dimensional array (matrix) of size 3x3, fill it with zeros and display its values."
   ]
  },
  {
   "cell_type": "code",
   "execution_count": 19,
   "id": "f98a3915-a10f-4144-926f-c60dc52affc5",
   "metadata": {},
   "outputs": [
    {
     "name": "stdout",
     "output_type": "stream",
     "text": [
      "[[0 0 0]\n",
      " [0 0 0]\n",
      " [0 0 0]]\n"
     ]
    }
   ],
   "source": [
    "matrix = np.zeros((3, 3), dtype=int)\n",
    "print(matrix)"
   ]
  },
  {
   "cell_type": "code",
   "execution_count": 20,
   "id": "5d59468f-040c-4e24-9b46-be7ed7b440e8",
   "metadata": {},
   "outputs": [],
   "source": [
    "## 3. Create an array of size 5x5, fill it with random integers in the range from 1 to 10 and display its values."
   ]
  },
  {
   "cell_type": "code",
   "execution_count": 62,
   "id": "cca17e89-04d0-4d29-94bc-1e35ee1e7a57",
   "metadata": {},
   "outputs": [
    {
     "name": "stdout",
     "output_type": "stream",
     "text": [
      "[[ 3  7  4  6  1]\n",
      " [ 9  7  6 10  2]\n",
      " [ 7  2  5  6  7]\n",
      " [ 8  8  1 10 10]\n",
      " [ 4  4  3  6  2]]\n"
     ]
    }
   ],
   "source": [
    "random_matrix = np.random.randint(1, 11, size=(5, 5))\n",
    "print(random_matrix)"
   ]
  },
  {
   "cell_type": "code",
   "execution_count": null,
   "id": "055d2612-0592-4597-8d63-ec2189391287",
   "metadata": {},
   "outputs": [],
   "source": [
    "## 4. Create an array of size 4x4, fill it with random real numbers in the range from 0 to 1 and display its values."
   ]
  },
  {
   "cell_type": "code",
   "execution_count": 71,
   "id": "4e67617f-2ed1-45b6-96bd-69307e5be05b",
   "metadata": {},
   "outputs": [
    {
     "name": "stdout",
     "output_type": "stream",
     "text": [
      "[[1 0 1 1]\n",
      " [1 0 1 0]\n",
      " [0 0 0 0]\n",
      " [0 0 0 1]]\n"
     ]
    }
   ],
   "source": [
    "random_matrix = np.random.randint(0, 2, size=(4, 4))\n",
    "print(random_matrix)"
   ]
  },
  {
   "cell_type": "code",
   "execution_count": 41,
   "id": "a2ffeeba-3ce0-4beb-bd8b-63c2d9a4a85e",
   "metadata": {},
   "outputs": [],
   "source": [
    "## 5. Create two one-dimensional arrays of size 5, fill them with random integers in the range from 1 to 10 and perform element-wise addition, subtraction, and multiplication operations on them."
   ]
  },
  {
   "cell_type": "code",
   "execution_count": 64,
   "id": "d86d4add-c5fe-4bba-a7b1-2b7c3c100a0d",
   "metadata": {},
   "outputs": [
    {
     "name": "stdout",
     "output_type": "stream",
     "text": [
      "Array A: [ 6 10  9  2  1]\n",
      "Array B: [ 6 10 10  6  3]\n"
     ]
    }
   ],
   "source": [
    "a = np.random.randint(1, 11, size=5)\n",
    "b = np.random.randint(1, 11, size=5)\n",
    "print(\"Array A:\", a)\n",
    "print(\"Array B:\", b)"
   ]
  },
  {
   "cell_type": "code",
   "execution_count": 66,
   "id": "15f39728-d37f-4579-a9a4-7ccb4442628c",
   "metadata": {},
   "outputs": [
    {
     "name": "stdout",
     "output_type": "stream",
     "text": [
      "Result of adding: [12 20 19  8  4]\n"
     ]
    }
   ],
   "source": [
    "print(\"Result of adding:\", a + b)"
   ]
  },
  {
   "cell_type": "code",
   "execution_count": 68,
   "id": "5f900caa-69b1-4e08-a974-87ebf2526b85",
   "metadata": {},
   "outputs": [
    {
     "name": "stdout",
     "output_type": "stream",
     "text": [
      "Result of subtraction: [ 0  0 -1 -4 -2]\n"
     ]
    }
   ],
   "source": [
    "print(\"Result of subtraction:\", a - b) "
   ]
  },
  {
   "cell_type": "code",
   "execution_count": 69,
   "id": "26bac599-2104-4ada-964c-0cd83688d364",
   "metadata": {},
   "outputs": [
    {
     "name": "stdout",
     "output_type": "stream",
     "text": [
      "Result of multiplication: [ 36 100  90  12   3]\n"
     ]
    }
   ],
   "source": [
    "print(\"Result of multiplication:\", a * b)"
   ]
  },
  {
   "cell_type": "code",
   "execution_count": null,
   "id": "8f5c12f6-9a99-4f2c-bf88-0ac4c7318977",
   "metadata": {},
   "outputs": [],
   "source": [
    "## 6. Create two vectors of size 7, fill with arbitrary numbers and find their scalar product."
   ]
  },
  {
   "cell_type": "code",
   "execution_count": 77,
   "id": "d0e54561-d511-4058-a8c5-a7331b7bdb0c",
   "metadata": {},
   "outputs": [
    {
     "name": "stdout",
     "output_type": "stream",
     "text": [
      "Vector A: [6 5 1 3 2 2 8]\n",
      "Vector B: [9 8 6 1 4 7 6]\n",
      "Scalar product: 173\n"
     ]
    }
   ],
   "source": [
    "vector_a = np.random.randint(1, 11, size=7)\n",
    "vector_b = np.random.randint(1, 11, size=7)\n",
    "print(\"Vector A:\", vector_a)\n",
    "print(\"Vector B:\", vector_b)\n",
    "print(\"Scalar product:\", np.dot(vector_a, vector_b))"
   ]
  },
  {
   "cell_type": "code",
   "execution_count": null,
   "id": "d352b997-a12d-4883-9feb-c4af9dc23964",
   "metadata": {},
   "outputs": [],
   "source": [
    "## 7. Create two matrices of sizes 2x2 and 2x3, fill them with random integers in the range from 1 to 10 and multiply them together."
   ]
  },
  {
   "cell_type": "code",
   "execution_count": 96,
   "id": "3653ddd0-538f-4743-81a4-5d0255b253c3",
   "metadata": {},
   "outputs": [
    {
     "name": "stdout",
     "output_type": "stream",
     "text": [
      "Matrix A:\n",
      " [[ 5 10]\n",
      " [ 4  6]]\n",
      "[[ 5 10]\n",
      " [ 4  6]]\n",
      "Matrix B:\n",
      " [[ 7 10 10]\n",
      " [ 1  7  2]]\n",
      "[[ 7 10 10]\n",
      " [ 1  7  2]]\n",
      "Result of multiplication:\n",
      " [[ 45 120  70]\n",
      " [ 34  82  52]]\n"
     ]
    }
   ],
   "source": [
    "matrix_a = np.random.randint(1, 11, size=(2, 2))\n",
    "matrix_b = np.random.randint(1, 11, size=(2, 3))\n",
    "print(\"Matrix A:\\n\", matrix_a)\n",
    "print(matrix_a)\n",
    "print(\"Matrix B:\\n\", matrix_b)\n",
    "print(matrix_b)\n",
    "result = np.dot(matrix_a, matrix_b)\n",
    "print(\"Result of multiplication:\\n\", result)\n"
   ]
  },
  {
   "cell_type": "code",
   "execution_count": null,
   "id": "ca4904c1-956c-4538-878c-709ff730155f",
   "metadata": {},
   "outputs": [],
   "source": [
    "## 8. Create a matrix of size 3x3, fill it with random integers in the range from 1 to 10 and find its inverse matrix."
   ]
  },
  {
   "cell_type": "code",
   "execution_count": 97,
   "id": "0899cf93-57bf-42f1-b83b-a07fa858e6f8",
   "metadata": {},
   "outputs": [
    {
     "name": "stdout",
     "output_type": "stream",
     "text": [
      "[[ 4  8  5]\n",
      " [ 3  6  4]\n",
      " [ 4 10  3]]\n"
     ]
    }
   ],
   "source": [
    "matrix = np.random.randint(1, 11, size=(3, 3))\n",
    "print(matrix)"
   ]
  },
  {
   "cell_type": "code",
   "execution_count": 99,
   "id": "3ccbde5a-db49-4a3b-a348-2435e5ea1c7f",
   "metadata": {},
   "outputs": [
    {
     "name": "stdout",
     "output_type": "stream",
     "text": [
      "Inverse matrix:\n",
      " [[ 11.  -13.   -1. ]\n",
      " [ -3.5   4.    0.5]\n",
      " [ -3.    4.    0. ]]\n"
     ]
    }
   ],
   "source": [
    "inverse_matrix = np.linalg.inv(matrix)\n",
    "print(\"Inverse matrix:\\n\", inverse_matrix)"
   ]
  },
  {
   "cell_type": "code",
   "execution_count": null,
   "id": "89f6d3a5-15f5-4ad2-93c5-fd396a1d6346",
   "metadata": {},
   "outputs": [],
   "source": [
    "## 9. Create a matrix of size 4x4, fill it with random real numbers in the range from 0 to 1 and transpose it."
   ]
  },
  {
   "cell_type": "code",
   "execution_count": 109,
   "id": "409b7168-0010-4fc8-ac9f-be4f1e001694",
   "metadata": {},
   "outputs": [
    {
     "name": "stdout",
     "output_type": "stream",
     "text": [
      "Matrix:\n",
      " [[0.37388019 0.31910866 0.1865017  0.39030151]\n",
      " [0.08262257 0.2450258  0.96275306 0.43359069]\n",
      " [0.4933935  0.83029596 0.18708916 0.62804716]\n",
      " [0.75169825 0.55654665 0.61579631 0.46142158]]\n",
      "Result of transpose:\n",
      " [[0.37388019 0.08262257 0.4933935  0.75169825]\n",
      " [0.31910866 0.2450258  0.83029596 0.55654665]\n",
      " [0.1865017  0.96275306 0.18708916 0.61579631]\n",
      " [0.39030151 0.43359069 0.62804716 0.46142158]]\n"
     ]
    }
   ],
   "source": [
    "matrix = np.random.rand(4, 4)\n",
    "print(\"Matrix:\\n\", matrix)\n",
    "matrix_transpose = matrix.T\n",
    "print(\"Result of transpose:\\n\", matrix_transpose)"
   ]
  },
  {
   "cell_type": "code",
   "execution_count": null,
   "id": "416843e1-f471-4be1-8d4b-2ebd140ab606",
   "metadata": {},
   "outputs": [],
   "source": [
    "## 10. Create a matrix of size 3x4 and a vector of size 4, fill them with random integers in the range from 1 to 10 and multiply the matrix by the vector."
   ]
  },
  {
   "cell_type": "code",
   "execution_count": 110,
   "id": "8cbef51a-ec9f-4178-bb0e-ad17ad449b8e",
   "metadata": {},
   "outputs": [
    {
     "name": "stdout",
     "output_type": "stream",
     "text": [
      "Matrix:\n",
      " [[7 8 8 8]\n",
      " [1 8 9 7]\n",
      " [4 8 7 8]]\n",
      "Vector:\n",
      " [7 8 6 7]\n"
     ]
    }
   ],
   "source": [
    "matrix = np.random.randint(1, 11, size=(3, 4))\n",
    "print(\"Matrix:\\n\", matrix)\n",
    "vector = np.random.randint(1, 11, size=4)\n",
    "print(\"Vector:\\n\", vector)"
   ]
  },
  {
   "cell_type": "code",
   "execution_count": 111,
   "id": "8c8aa024-7b63-4045-ab43-7dc40b3ff25c",
   "metadata": {},
   "outputs": [
    {
     "name": "stdout",
     "output_type": "stream",
     "text": [
      "Result of multiplication:\n",
      " [217 174 190]\n"
     ]
    }
   ],
   "source": [
    "result = matrix.dot(vector)\n",
    "print(\"Result of multiplication:\\n\", result)"
   ]
  },
  {
   "cell_type": "code",
   "execution_count": null,
   "id": "0cb79452-2ab0-45e6-87ef-c1ca7f075097",
   "metadata": {},
   "outputs": [],
   "source": [
    "## 11. Create a matrix of size 2x3 and a vector of size 3, fill them with random real numbers in the range from 0 to 1 and multiply the matrix by the vector."
   ]
  },
  {
   "cell_type": "code",
   "execution_count": 6,
   "id": "a1a11fe7-899b-420c-a35f-eba4ecb14598",
   "metadata": {},
   "outputs": [
    {
     "name": "stdout",
     "output_type": "stream",
     "text": [
      "Matrix:\n",
      " [[0.09514991 0.55842156 0.52575788]\n",
      " [0.91018854 0.59613404 0.18992708]]\n",
      "Vector:\n",
      " [0.38734147 0.19123843 0.88745237]\n"
     ]
    }
   ],
   "source": [
    "matrix = np.random.rand(2, 3)\n",
    "print(\"Matrix:\\n\", matrix)\n",
    "vector = np.random.rand(3)\n",
    "print(\"Vector:\\n\", vector)"
   ]
  },
  {
   "cell_type": "code",
   "execution_count": 7,
   "id": "57c4a162-07ad-4621-8288-ff3f51ec15a7",
   "metadata": {},
   "outputs": [
    {
     "name": "stdout",
     "output_type": "stream",
     "text": [
      "Result of multiplication:\n",
      " [0.61023225 0.63510875]\n"
     ]
    }
   ],
   "source": [
    "result = matrix.dot(vector)\n",
    "print(\"Result of multiplication:\\n\", result)"
   ]
  },
  {
   "cell_type": "code",
   "execution_count": null,
   "id": "598fa648-c59c-4dfe-80b6-19ba00a083ec",
   "metadata": {},
   "outputs": [],
   "source": [
    "## 12. Create two matrices of size 2x2, fill them with random integers in the range from 1 to 10 and perform their element-wise multiplication."
   ]
  },
  {
   "cell_type": "code",
   "execution_count": 8,
   "id": "3b3c4e04-b1d0-4776-8816-a78115712845",
   "metadata": {},
   "outputs": [
    {
     "name": "stdout",
     "output_type": "stream",
     "text": [
      "Matrix A:\n",
      " [[ 7  8]\n",
      " [10  7]]\n",
      "Matrix B:\n",
      " [[10  6]\n",
      " [ 4 10]]\n"
     ]
    }
   ],
   "source": [
    "matrix_a = np.random.randint(1, 11, size=(2, 2))\n",
    "print(\"Matrix A:\\n\", matrix_a)\n",
    "matrix_b = np.random.randint(1, 11, size=(2, 2))\n",
    "print(\"Matrix B:\\n\", matrix_b)"
   ]
  },
  {
   "cell_type": "code",
   "execution_count": 9,
   "id": "a04f29bb-3445-4914-905e-0f29d90b64f1",
   "metadata": {},
   "outputs": [
    {
     "name": "stdout",
     "output_type": "stream",
     "text": [
      "Result of multiplication:\n",
      " [[70 48]\n",
      " [40 70]]\n"
     ]
    }
   ],
   "source": [
    "result = np.multiply(matrix_a, matrix_b)\n",
    "print(\"Result of multiplication:\\n\", result)"
   ]
  },
  {
   "cell_type": "code",
   "execution_count": null,
   "id": "94ccf451-baee-4756-9697-1eb227c111ab",
   "metadata": {},
   "outputs": [],
   "source": [
    "## 13. Create two matrices of size 2x2, fill them with random integers in the range from 1 to 10 and find their product."
   ]
  },
  {
   "cell_type": "code",
   "execution_count": 11,
   "id": "522d9c1c-0097-4247-a70c-07706f9f5a5d",
   "metadata": {},
   "outputs": [
    {
     "name": "stdout",
     "output_type": "stream",
     "text": [
      "Matrix A:\n",
      " [[3 6]\n",
      " [8 7]]\n",
      "Matrix B:\n",
      " [[4 2]\n",
      " [7 6]]\n"
     ]
    }
   ],
   "source": [
    "matrix_a = np.random.randint(1, 11, size=(2, 2))\n",
    "print(\"Matrix A:\\n\", matrix_a)\n",
    "matrix_b = np.random.randint(1, 11, size=(2, 2))\n",
    "print(\"Matrix B:\\n\", matrix_b)"
   ]
  },
  {
   "cell_type": "code",
   "execution_count": 13,
   "id": "6e57cd96-6f78-4717-85f1-189634f6cf8e",
   "metadata": {},
   "outputs": [
    {
     "name": "stdout",
     "output_type": "stream",
     "text": [
      "Product of element-wise multiplication:\n",
      " [[12 12]\n",
      " [56 42]]\n"
     ]
    }
   ],
   "source": [
    "product_matrix = matrix_a * matrix_b\n",
    "print(\"Product of element-wise multiplication:\\n\", product_matrix)"
   ]
  },
  {
   "cell_type": "code",
   "execution_count": null,
   "id": "271e433c-6df6-4980-8fe5-4d576b5c7da6",
   "metadata": {},
   "outputs": [],
   "source": [
    "## 14. Create a matrix of size 5x5, fill it with random integers in the range from 1 to 100 and find the sum of the elements of the matrix."
   ]
  },
  {
   "cell_type": "code",
   "execution_count": 14,
   "id": "c1614e93-3c39-40af-9c6a-03b1377bdddf",
   "metadata": {},
   "outputs": [
    {
     "name": "stdout",
     "output_type": "stream",
     "text": [
      "Matrix:\n",
      " [[13 72 11 40 27]\n",
      " [49 67 85 96 14]\n",
      " [55 35 55 88 95]\n",
      " [78 41  2  1 40]\n",
      " [91  9 27 89 63]]\n"
     ]
    }
   ],
   "source": [
    "matrix = np.random.randint(1, 101, size=(5, 5))\n",
    "print(\"Matrix:\\n\", matrix)"
   ]
  },
  {
   "cell_type": "code",
   "execution_count": 15,
   "id": "12a361df-674c-4efd-b4ad-884a97c022bd",
   "metadata": {},
   "outputs": [
    {
     "name": "stdout",
     "output_type": "stream",
     "text": [
      "Sum of the elements:\n",
      " 1243\n"
     ]
    }
   ],
   "source": [
    "result = matrix.sum()\n",
    "print(\"Sum of the elements:\\n\", result)"
   ]
  },
  {
   "cell_type": "code",
   "execution_count": null,
   "id": "2f656598-4968-4686-b85b-7c5c0ec0eecd",
   "metadata": {},
   "outputs": [],
   "source": [
    "## 15. Create two matrices of size 4x4, fill them with random integers in the range from 1 to 10 and find their difference."
   ]
  },
  {
   "cell_type": "code",
   "execution_count": 16,
   "id": "87dca4c5-985d-4dda-9c44-05a0dde83408",
   "metadata": {},
   "outputs": [
    {
     "name": "stdout",
     "output_type": "stream",
     "text": [
      "Matrix A:\n",
      " [[ 1  1 10  3]\n",
      " [ 6  4  9  3]\n",
      " [ 9 10  1  7]\n",
      " [ 7 10  5  8]]\n",
      "Matrix B:\n",
      " [[3 9 3 4]\n",
      " [2 7 7 4]\n",
      " [2 9 1 7]\n",
      " [3 2 1 3]]\n"
     ]
    }
   ],
   "source": [
    "matrix_a = np.random.randint(1, 11, size=(4, 4))\n",
    "print(\"Matrix A:\\n\", matrix_a)\n",
    "matrix_b = np.random.randint(1, 11, size=(4, 4))\n",
    "print(\"Matrix B:\\n\", matrix_b)"
   ]
  },
  {
   "cell_type": "code",
   "execution_count": 17,
   "id": "1e5f3b30-105a-476f-bd75-f86d64f6eccf",
   "metadata": {},
   "outputs": [
    {
     "name": "stdout",
     "output_type": "stream",
     "text": [
      "Difference:\n",
      " [[-2 -8  7 -1]\n",
      " [ 4 -3  2 -1]\n",
      " [ 7  1  0  0]\n",
      " [ 4  8  4  5]]\n"
     ]
    }
   ],
   "source": [
    "diff = matrix_a - matrix_b\n",
    "print(\"Difference:\\n\", diff)"
   ]
  },
  {
   "cell_type": "code",
   "execution_count": null,
   "id": "6d4a2277-9f27-4f08-a699-ff4d91a14b90",
   "metadata": {},
   "outputs": [],
   "source": [
    "## 16. Create a matrix of size 3x3, fill it with random real numbers in the range from 0 to 1 and find the column vector that contains the sum of elements of each row of the matrix."
   ]
  },
  {
   "cell_type": "code",
   "execution_count": 18,
   "id": "95e5f51e-3f15-4b40-bfc8-6627b1d5ad10",
   "metadata": {},
   "outputs": [
    {
     "name": "stdout",
     "output_type": "stream",
     "text": [
      "Matrix:\n",
      " [[0.63921429 0.39770882 0.70884814]\n",
      " [0.47627109 0.1033708  0.65667002]\n",
      " [0.58333082 0.98046037 0.62786756]]\n"
     ]
    }
   ],
   "source": [
    "matrix = np.random.rand(3, 3)\n",
    "print(\"Matrix:\\n\", matrix)"
   ]
  },
  {
   "cell_type": "code",
   "execution_count": 19,
   "id": "b6134a64-baa1-477c-a91a-96a74fe43d70",
   "metadata": {},
   "outputs": [
    {
     "name": "stdout",
     "output_type": "stream",
     "text": [
      "Sum of elements of each row:\n",
      " [1.74577124 1.23631191 2.19165875]\n"
     ]
    }
   ],
   "source": [
    "row_sums = np.sum(matrix, axis=1)\n",
    "print(\"Sum of elements of each row:\\n\", row_sums)"
   ]
  },
  {
   "cell_type": "code",
   "execution_count": null,
   "id": "a179d517-50bd-497a-bede-a4a85af6beeb",
   "metadata": {},
   "outputs": [],
   "source": [
    "## 17. Create a matrix of size 3x4 with arbitrary integers and create a matrix with the squares of these numbers."
   ]
  },
  {
   "cell_type": "code",
   "execution_count": 22,
   "id": "61d3ada6-c332-4f3f-8809-de9b14ce8f49",
   "metadata": {},
   "outputs": [
    {
     "name": "stdout",
     "output_type": "stream",
     "text": [
      "Matrix:\n",
      " [[ 5  3  1  5]\n",
      " [10  7  5  9]\n",
      " [ 5  7 10  2]]\n",
      "Squared matrix:\n",
      " [[ 25   9   1  25]\n",
      " [100  49  25  81]\n",
      " [ 25  49 100   4]]\n"
     ]
    }
   ],
   "source": [
    "matrix = np.random.randint(1, 11, size=(3,4))\n",
    "print(\"Matrix:\\n\", matrix)\n",
    "matrix_sq = np.square(matrix)\n",
    "print(\"Squared matrix:\\n\", matrix_sq)"
   ]
  },
  {
   "cell_type": "code",
   "execution_count": null,
   "id": "aac46a7c-6dd8-450c-9390-64de69cacfe8",
   "metadata": {},
   "outputs": [],
   "source": [
    "## 18. Create a vector of size 4, fill it with random integers in the range from 1 to 50 and find a vector with the square roots of these numbers."
   ]
  },
  {
   "cell_type": "code",
   "execution_count": 28,
   "id": "528e9620-09fc-4dfb-8276-972e79092e14",
   "metadata": {},
   "outputs": [
    {
     "name": "stdout",
     "output_type": "stream",
     "text": [
      "Vector:\n",
      " [ 7  6 29 49]\n"
     ]
    }
   ],
   "source": [
    "vector = np.random.randint(1, 51, size=4)\n",
    "print(\"Vector:\\n\", vector)"
   ]
  },
  {
   "cell_type": "code",
   "execution_count": 26,
   "id": "cab645a4-b70c-4f9b-b224-8a88fb6b2d6d",
   "metadata": {},
   "outputs": [
    {
     "name": "stdout",
     "output_type": "stream",
     "text": [
      "Squared vector:\n",
      " [ 576    4 1156  169]\n"
     ]
    }
   ],
   "source": [
    "vector_sq = np.square(vector)\n",
    "print(\"Squared vector:\\n\", vector_sq)"
   ]
  }
 ],
 "metadata": {
  "kernelspec": {
   "display_name": "Python 3 (ipykernel)",
   "language": "python",
   "name": "python3"
  },
  "language_info": {
   "codemirror_mode": {
    "name": "ipython",
    "version": 3
   },
   "file_extension": ".py",
   "mimetype": "text/x-python",
   "name": "python",
   "nbconvert_exporter": "python",
   "pygments_lexer": "ipython3",
   "version": "3.11.4"
  }
 },
 "nbformat": 4,
 "nbformat_minor": 5
}
