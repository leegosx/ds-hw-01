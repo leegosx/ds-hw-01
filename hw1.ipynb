{
 "cells": [
  {
   "cell_type": "code",
   "execution_count": 1,
   "id": "10819044-7db1-4538-be44-a93f6049d68f",
   "metadata": {},
   "outputs": [],
   "source": [
    "#Introduction to Data Science"
   ]
  },
  {
   "cell_type": "code",
   "execution_count": 2,
   "id": "e263e42d-e1a7-4790-a7bc-ee73a1630120",
   "metadata": {},
   "outputs": [],
   "source": [
    "import numpy as np"
   ]
  },
  {
   "cell_type": "code",
   "execution_count": 3,
   "id": "5a8b7df9-0331-4449-93b4-6eb6cbbf8c09",
   "metadata": {},
   "outputs": [],
   "source": [
    "## 1. Create a one-dimensional array (vector) with the first 10 natural numbers and display its values."
   ]
  },
  {
   "cell_type": "code",
   "execution_count": 4,
   "id": "1de7e9a5-a86a-411f-bcc1-f7b38f6cdb85",
   "metadata": {},
   "outputs": [
    {
     "name": "stdout",
     "output_type": "stream",
     "text": [
      "[ 1  2  3  4  5  6  7  8  9 10]\n"
     ]
    }
   ],
   "source": [
    "vector = np.array(range(1, 11), dtype=int)\n",
    "print(vector)"
   ]
  },
  {
   "cell_type": "code",
   "execution_count": 5,
   "id": "6b4946cf-db5a-41a7-9c25-1a01b2436cfd",
   "metadata": {},
   "outputs": [],
   "source": [
    "## 2. Create a two-dimensional array (matrix) of size 3x3, fill it with zeros and display its values."
   ]
  },
  {
   "cell_type": "code",
   "execution_count": 6,
   "id": "f98a3915-a10f-4144-926f-c60dc52affc5",
   "metadata": {},
   "outputs": [
    {
     "name": "stdout",
     "output_type": "stream",
     "text": [
      "[[0 0 0]\n",
      " [0 0 0]\n",
      " [0 0 0]]\n"
     ]
    }
   ],
   "source": [
    "matrix = np.zeros((3, 3), dtype=int)\n",
    "print(matrix)"
   ]
  },
  {
   "cell_type": "code",
   "execution_count": 7,
   "id": "5d59468f-040c-4e24-9b46-be7ed7b440e8",
   "metadata": {},
   "outputs": [],
   "source": [
    "## 3. Create an array of size 5x5, fill it with random integers in the range from 1 to 10 and display its values."
   ]
  },
  {
   "cell_type": "code",
   "execution_count": 8,
   "id": "cca17e89-04d0-4d29-94bc-1e35ee1e7a57",
   "metadata": {},
   "outputs": [
    {
     "name": "stdout",
     "output_type": "stream",
     "text": [
      "[[ 5  6  8  3  6]\n",
      " [ 1 10  5  8  3]\n",
      " [ 8  2  1  9  4]\n",
      " [ 9  1 10  1  2]\n",
      " [ 7  7  7  6  7]]\n"
     ]
    }
   ],
   "source": [
    "random_matrix = np.random.randint(1, 11, size=(5, 5))\n",
    "print(random_matrix)"
   ]
  },
  {
   "cell_type": "code",
   "execution_count": 9,
   "id": "055d2612-0592-4597-8d63-ec2189391287",
   "metadata": {},
   "outputs": [],
   "source": [
    "## 4. Create an array of size 4x4, fill it with random real numbers in the range from 0 to 1 and display its values."
   ]
  },
  {
   "cell_type": "code",
   "execution_count": 10,
   "id": "4e67617f-2ed1-45b6-96bd-69307e5be05b",
   "metadata": {},
   "outputs": [
    {
     "name": "stdout",
     "output_type": "stream",
     "text": [
      "[[0 0 0 0]\n",
      " [0 1 1 0]\n",
      " [1 1 1 1]\n",
      " [0 0 0 1]]\n"
     ]
    }
   ],
   "source": [
    "random_matrix = np.random.randint(0, 2, size=(4, 4))\n",
    "print(random_matrix)"
   ]
  },
  {
   "cell_type": "code",
   "execution_count": 11,
   "id": "a2ffeeba-3ce0-4beb-bd8b-63c2d9a4a85e",
   "metadata": {},
   "outputs": [],
   "source": [
    "## 5. Create two one-dimensional arrays of size 5, fill them with random integers in the range from 1 to 10 and perform element-wise addition, subtraction, and multiplication operations on them."
   ]
  },
  {
   "cell_type": "code",
   "execution_count": 12,
   "id": "d86d4add-c5fe-4bba-a7b1-2b7c3c100a0d",
   "metadata": {},
   "outputs": [
    {
     "name": "stdout",
     "output_type": "stream",
     "text": [
      "Array A: [ 6  3  2  7 10]\n",
      "Array B: [ 8 10  1  8  1]\n"
     ]
    }
   ],
   "source": [
    "a = np.random.randint(1, 11, size=5)\n",
    "b = np.random.randint(1, 11, size=5)\n",
    "print(\"Array A:\", a)\n",
    "print(\"Array B:\", b)"
   ]
  },
  {
   "cell_type": "code",
   "execution_count": 13,
   "id": "15f39728-d37f-4579-a9a4-7ccb4442628c",
   "metadata": {},
   "outputs": [
    {
     "name": "stdout",
     "output_type": "stream",
     "text": [
      "Result of adding: [14 13  3 15 11]\n"
     ]
    }
   ],
   "source": [
    "print(\"Result of adding:\", a + b)"
   ]
  },
  {
   "cell_type": "code",
   "execution_count": 14,
   "id": "5f900caa-69b1-4e08-a974-87ebf2526b85",
   "metadata": {},
   "outputs": [
    {
     "name": "stdout",
     "output_type": "stream",
     "text": [
      "Result of subtraction: [-2 -7  1 -1  9]\n"
     ]
    }
   ],
   "source": [
    "print(\"Result of subtraction:\", a - b) "
   ]
  },
  {
   "cell_type": "code",
   "execution_count": 15,
   "id": "26bac599-2104-4ada-964c-0cd83688d364",
   "metadata": {},
   "outputs": [
    {
     "name": "stdout",
     "output_type": "stream",
     "text": [
      "Result of multiplication: [48 30  2 56 10]\n"
     ]
    }
   ],
   "source": [
    "print(\"Result of multiplication:\", a * b)"
   ]
  },
  {
   "cell_type": "code",
   "execution_count": 16,
   "id": "8f5c12f6-9a99-4f2c-bf88-0ac4c7318977",
   "metadata": {},
   "outputs": [],
   "source": [
    "## 6. Create two vectors of size 7, fill with arbitrary numbers and find their scalar product."
   ]
  },
  {
   "cell_type": "code",
   "execution_count": 17,
   "id": "d0e54561-d511-4058-a8c5-a7331b7bdb0c",
   "metadata": {},
   "outputs": [
    {
     "name": "stdout",
     "output_type": "stream",
     "text": [
      "Vector A: [4 2 3 3 7 2 8]\n",
      "Vector B: [10  3 10  1  5  8  1]\n",
      "Scalar product: 138\n"
     ]
    }
   ],
   "source": [
    "vector_a = np.random.randint(1, 11, size=7)\n",
    "vector_b = np.random.randint(1, 11, size=7)\n",
    "print(\"Vector A:\", vector_a)\n",
    "print(\"Vector B:\", vector_b)\n",
    "print(\"Scalar product:\", np.dot(vector_a, vector_b))"
   ]
  },
  {
   "cell_type": "code",
   "execution_count": 18,
   "id": "d352b997-a12d-4883-9feb-c4af9dc23964",
   "metadata": {},
   "outputs": [],
   "source": [
    "## 7. Create two matrices of sizes 2x2 and 2x3, fill them with random integers in the range from 1 to 10 and multiply them together."
   ]
  },
  {
   "cell_type": "code",
   "execution_count": 19,
   "id": "3653ddd0-538f-4743-81a4-5d0255b253c3",
   "metadata": {},
   "outputs": [
    {
     "name": "stdout",
     "output_type": "stream",
     "text": [
      "Matrix A:\n",
      " [[7 7]\n",
      " [3 2]]\n",
      "[[7 7]\n",
      " [3 2]]\n",
      "Matrix B:\n",
      " [[8 6 2]\n",
      " [6 1 6]]\n",
      "[[8 6 2]\n",
      " [6 1 6]]\n",
      "Result of multiplication:\n",
      " [[98 49 56]\n",
      " [36 20 18]]\n"
     ]
    }
   ],
   "source": [
    "matrix_a = np.random.randint(1, 11, size=(2, 2))\n",
    "matrix_b = np.random.randint(1, 11, size=(2, 3))\n",
    "print(\"Matrix A:\\n\", matrix_a)\n",
    "print(matrix_a)\n",
    "print(\"Matrix B:\\n\", matrix_b)\n",
    "print(matrix_b)\n",
    "result = np.dot(matrix_a, matrix_b)\n",
    "print(\"Result of multiplication:\\n\", result)\n"
   ]
  },
  {
   "cell_type": "code",
   "execution_count": 20,
   "id": "ca4904c1-956c-4538-878c-709ff730155f",
   "metadata": {},
   "outputs": [],
   "source": [
    "## 8. Create a matrix of size 3x3, fill it with random integers in the range from 1 to 10 and find its inverse matrix."
   ]
  },
  {
   "cell_type": "code",
   "execution_count": 21,
   "id": "0899cf93-57bf-42f1-b83b-a07fa858e6f8",
   "metadata": {},
   "outputs": [
    {
     "name": "stdout",
     "output_type": "stream",
     "text": [
      "[[2 5 7]\n",
      " [8 8 1]\n",
      " [7 9 4]]\n"
     ]
    }
   ],
   "source": [
    "matrix = np.random.randint(1, 11, size=(3, 3))\n",
    "print(matrix)"
   ]
  },
  {
   "cell_type": "code",
   "execution_count": 22,
   "id": "3ccbde5a-db49-4a3b-a348-2435e5ea1c7f",
   "metadata": {},
   "outputs": [
    {
     "name": "stdout",
     "output_type": "stream",
     "text": [
      "Inverse matrix:\n",
      " [[ 0.6969697   1.3030303  -1.54545455]\n",
      " [-0.75757576 -1.24242424  1.63636364]\n",
      " [ 0.48484848  0.51515152 -0.72727273]]\n"
     ]
    }
   ],
   "source": [
    "inverse_matrix = np.linalg.inv(matrix)\n",
    "print(\"Inverse matrix:\\n\", inverse_matrix)"
   ]
  },
  {
   "cell_type": "code",
   "execution_count": 23,
   "id": "89f6d3a5-15f5-4ad2-93c5-fd396a1d6346",
   "metadata": {},
   "outputs": [],
   "source": [
    "## 9. Create a matrix of size 4x4, fill it with random real numbers in the range from 0 to 1 and transpose it."
   ]
  },
  {
   "cell_type": "code",
   "execution_count": 24,
   "id": "409b7168-0010-4fc8-ac9f-be4f1e001694",
   "metadata": {},
   "outputs": [
    {
     "name": "stdout",
     "output_type": "stream",
     "text": [
      "Matrix:\n",
      " [[0.82626277 0.97501586 0.72130284 0.85675289]\n",
      " [0.49038136 0.07000538 0.04403595 0.41338565]\n",
      " [0.49790838 0.60882025 0.90670122 0.64622729]\n",
      " [0.82391766 0.15254783 0.0273892  0.6117281 ]]\n",
      "Result of transpose:\n",
      " [[0.82626277 0.49038136 0.49790838 0.82391766]\n",
      " [0.97501586 0.07000538 0.60882025 0.15254783]\n",
      " [0.72130284 0.04403595 0.90670122 0.0273892 ]\n",
      " [0.85675289 0.41338565 0.64622729 0.6117281 ]]\n"
     ]
    }
   ],
   "source": [
    "matrix = np.random.rand(4, 4)\n",
    "print(\"Matrix:\\n\", matrix)\n",
    "matrix_transpose = matrix.T\n",
    "print(\"Result of transpose:\\n\", matrix_transpose)"
   ]
  },
  {
   "cell_type": "code",
   "execution_count": 25,
   "id": "416843e1-f471-4be1-8d4b-2ebd140ab606",
   "metadata": {},
   "outputs": [],
   "source": [
    "## 10. Create a matrix of size 3x4 and a vector of size 4, fill them with random integers in the range from 1 to 10 and multiply the matrix by the vector."
   ]
  },
  {
   "cell_type": "code",
   "execution_count": 26,
   "id": "8cbef51a-ec9f-4178-bb0e-ad17ad449b8e",
   "metadata": {},
   "outputs": [
    {
     "name": "stdout",
     "output_type": "stream",
     "text": [
      "Matrix:\n",
      " [[ 3  6  2  9]\n",
      " [ 8  8  3  2]\n",
      " [ 8  5  5 10]]\n",
      "Vector:\n",
      " [8 4 2 4]\n"
     ]
    }
   ],
   "source": [
    "matrix = np.random.randint(1, 11, size=(3, 4))\n",
    "print(\"Matrix:\\n\", matrix)\n",
    "vector = np.random.randint(1, 11, size=4)\n",
    "print(\"Vector:\\n\", vector)"
   ]
  },
  {
   "cell_type": "code",
   "execution_count": 27,
   "id": "8c8aa024-7b63-4045-ab43-7dc40b3ff25c",
   "metadata": {},
   "outputs": [
    {
     "name": "stdout",
     "output_type": "stream",
     "text": [
      "Result of multiplication:\n",
      " [ 88 110 134]\n"
     ]
    }
   ],
   "source": [
    "result = matrix.dot(vector)\n",
    "print(\"Result of multiplication:\\n\", result)"
   ]
  },
  {
   "cell_type": "code",
   "execution_count": 28,
   "id": "0cb79452-2ab0-45e6-87ef-c1ca7f075097",
   "metadata": {},
   "outputs": [],
   "source": [
    "## 11. Create a matrix of size 2x3 and a vector of size 3, fill them with random real numbers in the range from 0 to 1 and multiply the matrix by the vector."
   ]
  },
  {
   "cell_type": "code",
   "execution_count": 29,
   "id": "a1a11fe7-899b-420c-a35f-eba4ecb14598",
   "metadata": {},
   "outputs": [
    {
     "name": "stdout",
     "output_type": "stream",
     "text": [
      "Matrix:\n",
      " [[0.63859243 0.82427756 0.29987423]\n",
      " [0.34590074 0.60286183 0.51824286]]\n",
      "Vector:\n",
      " [0.33528644 0.45992269 0.3727701 ]\n"
     ]
    }
   ],
   "source": [
    "matrix = np.random.rand(2, 3)\n",
    "print(\"Matrix:\\n\", matrix)\n",
    "vector = np.random.rand(3)\n",
    "print(\"Vector:\\n\", vector)"
   ]
  },
  {
   "cell_type": "code",
   "execution_count": 30,
   "id": "57c4a162-07ad-4621-8288-ff3f51ec15a7",
   "metadata": {},
   "outputs": [
    {
     "name": "stdout",
     "output_type": "stream",
     "text": [
      "Result of multiplication:\n",
      " [0.70499947 0.5864311 ]\n"
     ]
    }
   ],
   "source": [
    "result = matrix.dot(vector)\n",
    "print(\"Result of multiplication:\\n\", result)"
   ]
  },
  {
   "cell_type": "code",
   "execution_count": 31,
   "id": "598fa648-c59c-4dfe-80b6-19ba00a083ec",
   "metadata": {},
   "outputs": [],
   "source": [
    "## 12. Create two matrices of size 2x2, fill them with random integers in the range from 1 to 10 and perform their element-wise multiplication."
   ]
  },
  {
   "cell_type": "code",
   "execution_count": 32,
   "id": "3b3c4e04-b1d0-4776-8816-a78115712845",
   "metadata": {},
   "outputs": [
    {
     "name": "stdout",
     "output_type": "stream",
     "text": [
      "Matrix A:\n",
      " [[9 5]\n",
      " [4 6]]\n",
      "Matrix B:\n",
      " [[10  8]\n",
      " [ 7  7]]\n"
     ]
    }
   ],
   "source": [
    "matrix_a = np.random.randint(1, 11, size=(2, 2))\n",
    "print(\"Matrix A:\\n\", matrix_a)\n",
    "matrix_b = np.random.randint(1, 11, size=(2, 2))\n",
    "print(\"Matrix B:\\n\", matrix_b)"
   ]
  },
  {
   "cell_type": "code",
   "execution_count": 33,
   "id": "a04f29bb-3445-4914-905e-0f29d90b64f1",
   "metadata": {},
   "outputs": [
    {
     "name": "stdout",
     "output_type": "stream",
     "text": [
      "Result of multiplication:\n",
      " [[90 40]\n",
      " [28 42]]\n"
     ]
    }
   ],
   "source": [
    "result = np.multiply(matrix_a, matrix_b)\n",
    "print(\"Result of multiplication:\\n\", result)"
   ]
  },
  {
   "cell_type": "code",
   "execution_count": 34,
   "id": "94ccf451-baee-4756-9697-1eb227c111ab",
   "metadata": {},
   "outputs": [],
   "source": [
    "## 13. Create two matrices of size 2x2, fill them with random integers in the range from 1 to 10 and find their product."
   ]
  },
  {
   "cell_type": "code",
   "execution_count": 35,
   "id": "522d9c1c-0097-4247-a70c-07706f9f5a5d",
   "metadata": {},
   "outputs": [
    {
     "name": "stdout",
     "output_type": "stream",
     "text": [
      "Matrix A:\n",
      " [[10  4]\n",
      " [ 4  1]]\n",
      "Matrix B:\n",
      " [[10 10]\n",
      " [ 5  1]]\n"
     ]
    }
   ],
   "source": [
    "matrix_a = np.random.randint(1, 11, size=(2, 2))\n",
    "print(\"Matrix A:\\n\", matrix_a)\n",
    "matrix_b = np.random.randint(1, 11, size=(2, 2))\n",
    "print(\"Matrix B:\\n\", matrix_b)"
   ]
  },
  {
   "cell_type": "code",
   "execution_count": 36,
   "id": "6e57cd96-6f78-4717-85f1-189634f6cf8e",
   "metadata": {},
   "outputs": [
    {
     "name": "stdout",
     "output_type": "stream",
     "text": [
      "Product of element-wise multiplication:\n",
      " [[100  40]\n",
      " [ 20   1]]\n"
     ]
    }
   ],
   "source": [
    "product_matrix = matrix_a * matrix_b\n",
    "print(\"Product of element-wise multiplication:\\n\", product_matrix)"
   ]
  },
  {
   "cell_type": "code",
   "execution_count": 37,
   "id": "271e433c-6df6-4980-8fe5-4d576b5c7da6",
   "metadata": {},
   "outputs": [],
   "source": [
    "## 14. Create a matrix of size 5x5, fill it with random integers in the range from 1 to 100 and find the sum of the elements of the matrix."
   ]
  },
  {
   "cell_type": "code",
   "execution_count": 38,
   "id": "c1614e93-3c39-40af-9c6a-03b1377bdddf",
   "metadata": {},
   "outputs": [
    {
     "name": "stdout",
     "output_type": "stream",
     "text": [
      "Matrix:\n",
      " [[69  5 38 37 81]\n",
      " [76 83 35 96 82]\n",
      " [45 56 17  1 35]\n",
      " [62 94 84 57  7]\n",
      " [38 58 88 42 16]]\n"
     ]
    }
   ],
   "source": [
    "matrix = np.random.randint(1, 101, size=(5, 5))\n",
    "print(\"Matrix:\\n\", matrix)"
   ]
  },
  {
   "cell_type": "code",
   "execution_count": 39,
   "id": "12a361df-674c-4efd-b4ad-884a97c022bd",
   "metadata": {},
   "outputs": [
    {
     "name": "stdout",
     "output_type": "stream",
     "text": [
      "Sum of the elements:\n",
      " 1302\n"
     ]
    }
   ],
   "source": [
    "result = matrix.sum()\n",
    "print(\"Sum of the elements:\\n\", result)"
   ]
  },
  {
   "cell_type": "code",
   "execution_count": 40,
   "id": "2f656598-4968-4686-b85b-7c5c0ec0eecd",
   "metadata": {},
   "outputs": [],
   "source": [
    "## 15. Create two matrices of size 4x4, fill them with random integers in the range from 1 to 10 and find their difference."
   ]
  },
  {
   "cell_type": "code",
   "execution_count": 41,
   "id": "87dca4c5-985d-4dda-9c44-05a0dde83408",
   "metadata": {},
   "outputs": [
    {
     "name": "stdout",
     "output_type": "stream",
     "text": [
      "Matrix A:\n",
      " [[ 6  1  1  3]\n",
      " [ 5  9  1  2]\n",
      " [ 6  2  2  2]\n",
      " [ 5 10  9 10]]\n",
      "Matrix B:\n",
      " [[ 1  7  4  9]\n",
      " [ 1  7  1  7]\n",
      " [ 9  8  8  5]\n",
      " [ 1  8  4 10]]\n"
     ]
    }
   ],
   "source": [
    "matrix_a = np.random.randint(1, 11, size=(4, 4))\n",
    "print(\"Matrix A:\\n\", matrix_a)\n",
    "matrix_b = np.random.randint(1, 11, size=(4, 4))\n",
    "print(\"Matrix B:\\n\", matrix_b)"
   ]
  },
  {
   "cell_type": "code",
   "execution_count": 42,
   "id": "1e5f3b30-105a-476f-bd75-f86d64f6eccf",
   "metadata": {},
   "outputs": [
    {
     "name": "stdout",
     "output_type": "stream",
     "text": [
      "Difference:\n",
      " [[ 5 -6 -3 -6]\n",
      " [ 4  2  0 -5]\n",
      " [-3 -6 -6 -3]\n",
      " [ 4  2  5  0]]\n"
     ]
    }
   ],
   "source": [
    "diff = matrix_a - matrix_b\n",
    "print(\"Difference:\\n\", diff)"
   ]
  },
  {
   "cell_type": "code",
   "execution_count": 43,
   "id": "6d4a2277-9f27-4f08-a699-ff4d91a14b90",
   "metadata": {},
   "outputs": [],
   "source": [
    "## 16. Create a matrix of size 3x3, fill it with random real numbers in the range from 0 to 1 and find the column vector that contains the sum of elements of each row of the matrix."
   ]
  },
  {
   "cell_type": "code",
   "execution_count": 44,
   "id": "95e5f51e-3f15-4b40-bfc8-6627b1d5ad10",
   "metadata": {},
   "outputs": [
    {
     "name": "stdout",
     "output_type": "stream",
     "text": [
      "Matrix:\n",
      " [[0.37801071 0.38921879 0.12225209]\n",
      " [0.17906627 0.21014932 0.36685508]\n",
      " [0.67189064 0.0351304  0.61852642]]\n"
     ]
    }
   ],
   "source": [
    "matrix = np.random.rand(3, 3)\n",
    "print(\"Matrix:\\n\", matrix)"
   ]
  },
  {
   "cell_type": "code",
   "execution_count": 45,
   "id": "b6134a64-baa1-477c-a91a-96a74fe43d70",
   "metadata": {},
   "outputs": [
    {
     "name": "stdout",
     "output_type": "stream",
     "text": [
      "Column vector with the sum of elements of each row:\n",
      " [[0.88948159]\n",
      " [0.75607067]\n",
      " [1.32554747]]\n"
     ]
    }
   ],
   "source": [
    "row_sums = np.sum(matrix, axis=1).reshape(-1, 1)\n",
    "print(\"Column vector with the sum of elements of each row:\\n\", row_sums)"
   ]
  },
  {
   "cell_type": "code",
   "execution_count": 46,
   "id": "a179d517-50bd-497a-bede-a4a85af6beeb",
   "metadata": {},
   "outputs": [],
   "source": [
    "## 17. Create a matrix of size 3x4 with arbitrary integers and create a matrix with the squares of these numbers."
   ]
  },
  {
   "cell_type": "code",
   "execution_count": 47,
   "id": "61d3ada6-c332-4f3f-8809-de9b14ce8f49",
   "metadata": {},
   "outputs": [
    {
     "name": "stdout",
     "output_type": "stream",
     "text": [
      "Matrix:\n",
      " [[ 9  9  9 10]\n",
      " [ 8  6  4  6]\n",
      " [ 4  5  1  5]]\n",
      "Squared matrix:\n",
      " [[ 81  81  81 100]\n",
      " [ 64  36  16  36]\n",
      " [ 16  25   1  25]]\n"
     ]
    }
   ],
   "source": [
    "matrix = np.random.randint(1, 11, size=(3,4))\n",
    "print(\"Matrix:\\n\", matrix)\n",
    "matrix_sq = np.square(matrix)\n",
    "print(\"Squared matrix:\\n\", matrix_sq)"
   ]
  },
  {
   "cell_type": "code",
   "execution_count": 48,
   "id": "aac46a7c-6dd8-450c-9390-64de69cacfe8",
   "metadata": {},
   "outputs": [],
   "source": [
    "## 18. Create a vector of size 4, fill it with random integers in the range from 1 to 50 and find a vector with the square roots of these numbers."
   ]
  },
  {
   "cell_type": "code",
   "execution_count": 49,
   "id": "528e9620-09fc-4dfb-8276-972e79092e14",
   "metadata": {},
   "outputs": [
    {
     "name": "stdout",
     "output_type": "stream",
     "text": [
      "Vector:\n",
      " [16 42 15 40]\n"
     ]
    }
   ],
   "source": [
    "vector = np.random.randint(1, 51, size=4)\n",
    "print(\"Vector:\\n\", vector)"
   ]
  },
  {
   "cell_type": "code",
   "execution_count": 50,
   "id": "cab645a4-b70c-4f9b-b224-8a88fb6b2d6d",
   "metadata": {},
   "outputs": [
    {
     "name": "stdout",
     "output_type": "stream",
     "text": [
      "Squared vector:\n",
      " [ 256 1764  225 1600]\n"
     ]
    }
   ],
   "source": [
    "vector_sq = np.square(vector)\n",
    "print(\"Squared vector:\\n\", vector_sq)"
   ]
  }
 ],
 "metadata": {
  "kernelspec": {
   "display_name": "Python 3 (ipykernel)",
   "language": "python",
   "name": "python3"
  },
  "language_info": {
   "codemirror_mode": {
    "name": "ipython",
    "version": 3
   },
   "file_extension": ".py",
   "mimetype": "text/x-python",
   "name": "python",
   "nbconvert_exporter": "python",
   "pygments_lexer": "ipython3",
   "version": "3.11.4"
  }
 },
 "nbformat": 4,
 "nbformat_minor": 5
}
